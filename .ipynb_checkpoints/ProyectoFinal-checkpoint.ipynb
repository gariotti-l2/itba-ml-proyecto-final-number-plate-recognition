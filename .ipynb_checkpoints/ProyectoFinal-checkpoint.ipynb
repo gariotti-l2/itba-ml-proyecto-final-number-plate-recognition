{
 "cells": [
  {
   "cell_type": "markdown",
   "metadata": {},
   "source": [
    "# Reconocimiento de Patentes con Tensorflow"
   ]
  },
  {
   "cell_type": "markdown",
   "metadata": {},
   "source": [
    "### Introducción\n",
    "Un proyecto para reconocer los caracteres de una chapa patente basado en el documento de Mathew Earl https://matthewearl.github.io/2016/05/06/cnn-anpr/ que surge de un paper de los ingenieros de google https://arxiv.org/pdf/1312.6082v4.pdf con respecto a la utilización de machine learning y las imagenes de street view para obtener una red que permita resolver los captcha de Google.\n",
    "Siguiendo la lógica del paper Mathew propone generar el dataset de patentes de manera sintética y resolver con la misma red del paper la identificación de los caracteres."
   ]
  },
  {
   "cell_type": "markdown",
   "metadata": {},
   "source": [
    "### Inputs, outputs and windowing\n",
    "Para minimizar los requisitos computacionales, la red operara con imágenes de entrada en escala de grises de 128x64.\n",
    "Con esa resolución todavía sigue siendo legible la patente.\n",
    "Para detectar matrículas en imágenes más grandes, se utilizan varias escalas con el metodo de sliding window.\n",
    "\n",
    "Para cada entrada de 128x64 la red tiene una salida:\n",
    "* La probabilidad de que la patente esté presente en la imagen de entrada. \n",
    "* La probabilidad del caracter en cada posición, es decir. para cada una de las 7 posiciones posibles debería devolver una distribución de probabilidad entre los caracteres posibles.\n",
    "\n",
    "**Esta red solo sirve para patentes de automotores y del formato mercosur."
   ]
  },
  {
   "cell_type": "code",
   "execution_count": null,
   "metadata": {
    "collapsed": true
   },
   "outputs": [],
   "source": []
  },
  {
   "cell_type": "code",
   "execution_count": null,
   "metadata": {
    "collapsed": true
   },
   "outputs": [],
   "source": []
  }
 ],
 "metadata": {
  "kernelspec": {
   "display_name": "Python 3",
   "language": "python",
   "name": "python3"
  },
  "language_info": {
   "codemirror_mode": {
    "name": "ipython",
    "version": 3
   },
   "file_extension": ".py",
   "mimetype": "text/x-python",
   "name": "python",
   "nbconvert_exporter": "python",
   "pygments_lexer": "ipython3",
   "version": "3.5.4"
  }
 },
 "nbformat": 4,
 "nbformat_minor": 0
}
