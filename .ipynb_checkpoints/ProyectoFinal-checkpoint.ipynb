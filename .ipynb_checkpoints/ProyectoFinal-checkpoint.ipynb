{
 "cells": [
  {
   "cell_type": "markdown",
   "metadata": {},
   "source": [
    "# Reconocimiento de Patentes con Tensorflow"
   ]
  },
  {
   "cell_type": "markdown",
   "metadata": {},
   "source": [
    "### Introducción\n",
    "Un proyecto para reconocer los caracteres de una chapa patente basado en el documento de Mathew Earl https://matthewearl.github.io/2016/05/06/cnn-anpr/ que surge de un paper de los ingenieros de google https://arxiv.org/pdf/1312.6082v4.pdf con respecto a la utilización de machine learning y las imagenes de street view para obtener una red que permita resolver los captcha de Google.\n",
    "Siguiendo la lógica del paper Mathew propone generar el dataset de manera sintética y con esto resolver uno de los grandes problemas de machine learning que son los dataset tageados."
   ]
  },
  {
   "cell_type": "code",
   "execution_count": null,
   "metadata": {
    "collapsed": true
   },
   "outputs": [],
   "source": []
  }
 ],
 "metadata": {
  "kernelspec": {
   "display_name": "Python 3",
   "language": "python",
   "name": "python3"
  },
  "language_info": {
   "codemirror_mode": {
    "name": "ipython",
    "version": 3
   },
   "file_extension": ".py",
   "mimetype": "text/x-python",
   "name": "python",
   "nbconvert_exporter": "python",
   "pygments_lexer": "ipython3",
   "version": "3.5.4"
  }
 },
 "nbformat": 4,
 "nbformat_minor": 0
}
